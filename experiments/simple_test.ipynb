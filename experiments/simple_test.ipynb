{
 "cells": [
  {
   "cell_type": "code",
   "execution_count": 1,
   "metadata": {},
   "outputs": [],
   "source": [
    "import sys\n",
    "\n",
    "sys.path.append('../src')\n",
    "\n",
    "from swfilter import SlicedWassersteinFilter, FastSlicedWassersteinFilter, SplitSlicedWassersteinFilter, SmartSplitSlicedWassersteinFilter"
   ]
  },
  {
   "cell_type": "code",
   "execution_count": 2,
   "metadata": {},
   "outputs": [],
   "source": [
    "import numpy as np\n",
    "import pandas as pd\n",
    "import matplotlib.pyplot as plt\n",
    "import sklearn as sk\n",
    "from scipy.io import arff\n",
    "import mlflow\n",
    "import seaborn as sns"
   ]
  },
  {
   "cell_type": "code",
   "execution_count": 3,
   "metadata": {},
   "outputs": [],
   "source": [
    "dataset_list = [\n",
    "                ['Shuttle','Shuttle_withoutdupl_norm_v01'],\n",
    "                #['KDDCup99','KDDCup99_withoutdupl_norm_catremoved'],\n",
    "                #['ALOI','ALOI_withoutdupl_norm'],\n",
    "                ]"
   ]
  },
  {
   "cell_type": "code",
   "execution_count": 4,
   "metadata": {},
   "outputs": [],
   "source": [
    "def import_dataset(folder_name:str, dataset_name:str)->pd.DataFrame:\n",
    "    arff_file = arff.loadarff(f'../datasets/{folder_name}/{dataset_name}.arff')\n",
    "    df_file = pd.DataFrame(arff_file[0])\n",
    "    features = df_file.drop(columns=['outlier', 'id'])\n",
    "    label = df_file['outlier']\n",
    "    return features, label, df_file\n",
    "\n",
    "def generate_data(folder_name:str, dataset_name:str, test_size:float=0.5, seed:int=42):\n",
    "    features, label, df_file = import_dataset(folder_name, dataset_name)\n",
    "    X = np.array(features.values)\n",
    "    y = np.array(label.values == b'yes')\n",
    "    y= np.where(y, -1, 1)\n",
    "\n",
    "    if test_size == 1.0:\n",
    "        X_test = X\n",
    "        Y_test = y\n",
    "        X_train = None \n",
    "        Y_train = None\n",
    "    else:\n",
    "        X_train, X_test, Y_train, Y_test = sk.model_selection.train_test_split(X, y, test_size=test_size, random_state=seed)\n",
    "    data = {'X_train':X_train, 'X_test':X_test, 'Y_train':Y_train, 'Y_test':Y_test, 'X':X, 'y':y}\n",
    "    return data\n"
   ]
  },
  {
   "cell_type": "code",
   "execution_count": 5,
   "metadata": {},
   "outputs": [
    {
     "name": "stdout",
     "output_type": "stream",
     "text": [
      "(1013, 9)\n"
     ]
    }
   ],
   "source": [
    "dataset = dataset_list[0]\n",
    "dataset_name = dataset[0]\n",
    "data = generate_data(dataset[0], dataset[1], test_size=1.0, seed=42)\n",
    "X_train = data['X_train']\n",
    "X_test = data['X_test']\n",
    "Y_train = data['Y_train']\n",
    "Y_test = data['Y_test']\n",
    "X = data['X']\n",
    "y = data['y']\n",
    "\n",
    "print(X_test.shape)"
   ]
  },
  {
   "cell_type": "code",
   "execution_count": 6,
   "metadata": {},
   "outputs": [],
   "source": [
    "import time\n",
    "start_time = time.time()\n",
    "eps = 0.02\n",
    "n = 15\n",
    "n_projections = 20\n",
    "p = 0.7\n",
    "\n",
    "model = SmartSplitSlicedWassersteinFilter(eps=eps, n=n, n_projections=n_projections, p=p, seed=42, n_jobs=1, swtype='original', n_clusters=5, n_splits=5)"
   ]
  },
  {
   "cell_type": "code",
   "execution_count": 7,
   "metadata": {},
   "outputs": [],
   "source": [
    "res, mean = model.fit_predict(X_test)"
   ]
  },
  {
   "cell_type": "code",
   "execution_count": 9,
   "metadata": {},
   "outputs": [
    {
     "name": "stdout",
     "output_type": "stream",
     "text": [
      "(1013,)\n"
     ]
    }
   ],
   "source": [
    "print(res.shape)"
   ]
  },
  {
   "cell_type": "code",
   "execution_count": 46,
   "metadata": {},
   "outputs": [
    {
     "name": "stdout",
     "output_type": "stream",
     "text": [
      "total time: 305.28289818763733\n",
      "test_accuracy: 0.7382807768401503\n",
      "test_precision: 0.9715169445938677\n",
      "test_recall_score: 0.7521134385541165\n",
      "true_positive: 449\n",
      "false_positive: 11905\n",
      "true_negative: 36121\n",
      "false_negative: 1059\n"
     ]
    }
   ],
   "source": [
    "\n",
    "\"\"\"\n",
    "model = SplitSlicedWassersteinFilter(\n",
    "    eps=eps,\n",
    "    n=n,\n",
    "    n_projections=n_projections,\n",
    "    p=p,\n",
    "    seed=42,\n",
    "    n_jobs=-1,\n",
    "    swtype='original', \n",
    "    n_clusters=100\n",
    ")\n",
    "\"\"\"\n",
    "\n",
    "if X_train is not None:\n",
    "    # Fit the model on the entire training dataset\n",
    "    Y_pred, vote = model.fit_predict(X_train)\n",
    "    train_accuracy = sk.metrics.accuracy_score(Y_train, Y_pred)\n",
    "    train_precision = sk.metrics.precision_score(Y_train, Y_pred, zero_division=0)\n",
    "    \n",
    "\n",
    "\n",
    "# Fit the model on the entire training dataset\n",
    "Y_pred, vote = model.fit_predict(X_test)\n",
    "test_precision = sk.metrics.precision_score(Y_test, Y_pred, zero_division=0)\n",
    "test_accuracy = sk.metrics.accuracy_score(Y_test, Y_pred)\n",
    "test_recall_score = sk.metrics.recall_score(Y_test, Y_pred, zero_division=0)\n",
    "\n",
    "true_positive = np.sum((Y_test == -1) & (Y_pred == -1))\n",
    "false_positive = np.sum((Y_test == 1) & (Y_pred == -1))\n",
    "true_negative = np.sum((Y_test == 1) & (Y_pred == 1))\n",
    "false_negative = np.sum((Y_test == -1) & (Y_pred == 1))\n",
    "end_time = time.time()\n",
    "\n",
    "print(f\"total time: {end_time - start_time}\")\n",
    "print(f\"test_accuracy: {test_accuracy}\")\n",
    "print(f\"test_precision: {test_precision}\")\n",
    "print(f\"test_recall_score: {test_recall_score}\")\n",
    "print(f\"true_positive: {true_positive}\")\n",
    "print(f\"false_positive: {false_positive}\")\n",
    "print(f\"true_negative: {true_negative}\")\n",
    "print(f\"false_negative: {false_negative}\")\n",
    "       \n",
    "        "
   ]
  }
 ],
 "metadata": {
  "kernelspec": {
   "display_name": "Python 3",
   "language": "python",
   "name": "python3"
  },
  "language_info": {
   "codemirror_mode": {
    "name": "ipython",
    "version": 3
   },
   "file_extension": ".py",
   "mimetype": "text/x-python",
   "name": "python",
   "nbconvert_exporter": "python",
   "pygments_lexer": "ipython3",
   "version": "3.10.12"
  }
 },
 "nbformat": 4,
 "nbformat_minor": 2
}
